{
 "cells": [
  {
   "cell_type": "code",
   "execution_count": 3,
   "id": "55f71834",
   "metadata": {},
   "outputs": [],
   "source": [
    "from chatterbot.trainers import ListTrainer\n",
    "from chatterbot import ChatBot"
   ]
  },
  {
   "cell_type": "code",
   "execution_count": 34,
   "id": "53be0e4b",
   "metadata": {},
   "outputs": [],
   "source": [
    "from datetime import datetime\n",
    "\n",
    "atividades = []\n",
    "\n",
    "def get_comands(pre_resposta):\n",
    "    data = datetime.now()\n",
    "    \n",
    "    _resposta = str(pre_resposta)\n",
    "    \n",
    "    _resposta = _resposta.replace('c{horas}', str(data.hour))\n",
    "    \n",
    "    if 'c{novaativ}' in _resposta:\n",
    "        print('My Bot: Qual atividade?')\n",
    "        nova_atividade = input(\"Usuário: \")\n",
    "        atividades.append(nova_atividade)\n",
    "        print('My Bot: ok, vou adicionar essa tarefa na sua lista')\n",
    "        _resposta = None\n",
    "    \n",
    "    elif 'c{falartarefas}' in _resposta:\n",
    "        if len(atividades) == 0:\n",
    "            print('My Bot: Não, você está livre para conversar comigo!!')\n",
    "        else:\n",
    "            print('My Bot: Infelizmente sim :(, você ainda tem que:')\n",
    "            for tarefa in atividades:\n",
    "                print(f'- {tarefa}')\n",
    "        _resposta = None\n",
    "    \n",
    "    elif 'c{acabartarefa}' in _resposta:\n",
    "        print('My Bot: Ebaa, qual tarefa?')\n",
    "        tarefa_finalizada = input('Usuário: ')\n",
    "        if tarefa_finalizada in atividades:\n",
    "            atividades.remove(tarefa_finalizada)\n",
    "            print('My Bot: Boaa, já risquei ela da lista')\n",
    "        else:\n",
    "            print('My Bot: Hum, não achei essa tarefa na sua lista')\n",
    "        _resposta = None\n",
    "    \n",
    "    return _resposta"
   ]
  },
  {
   "cell_type": "code",
   "execution_count": 35,
   "id": "ecba8151",
   "metadata": {},
   "outputs": [
    {
     "name": "stdout",
     "output_type": "stream",
     "text": [
      "List Trainer: [####################] 100%"
     ]
    },
    {
     "name": "stderr",
     "output_type": "stream",
     "text": [
      "[nltk_data] Downloading package averaged_perceptron_tagger to\n",
      "[nltk_data]     /home/gustavo/nltk_data...\n",
      "[nltk_data]   Package averaged_perceptron_tagger is already up-to-\n",
      "[nltk_data]       date!\n",
      "[nltk_data] Downloading package punkt to /home/gustavo/nltk_data...\n",
      "[nltk_data]   Package punkt is already up-to-date!\n",
      "[nltk_data] Downloading package stopwords to\n",
      "[nltk_data]     /home/gustavo/nltk_data...\n",
      "[nltk_data]   Package stopwords is already up-to-date!\n"
     ]
    },
    {
     "name": "stdout",
     "output_type": "stream",
     "text": [
      "\n",
      "Usuário: OI\n",
      "My Bot:  Olá\n",
      "Usuário: Eu tenho uma atividade nova para fazer\n",
      "My Bot: Qual atividade?\n",
      "Usuário: treinar\n",
      "My Bot: ok, vou adicionar essa tarefa na sua lista\n",
      "Usuário: Eu tenho alguma tarefa?\n",
      "My Bot: Infelizmente sim :(, você ainda tem que:\n",
      "- treinar\n",
      "Usuário: Eu acabei uma tarefa!\n",
      "My Bot: Ebaa, qual tarefa?\n",
      "Usuário: treinar\n",
      "My Bot: Boaa, já risquei ela da lista\n"
     ]
    },
    {
     "ename": "KeyboardInterrupt",
     "evalue": "Interrupted by user",
     "output_type": "error",
     "traceback": [
      "\u001b[0;31m---------------------------------------------------------------------------\u001b[0m",
      "\u001b[0;31mKeyboardInterrupt\u001b[0m                         Traceback (most recent call last)",
      "\u001b[0;32m/tmp/ipykernel_6006/3574157780.py\u001b[0m in \u001b[0;36m<module>\u001b[0;34m\u001b[0m\n\u001b[1;32m     14\u001b[0m \u001b[0;34m\u001b[0m\u001b[0m\n\u001b[1;32m     15\u001b[0m \u001b[0;32mwhile\u001b[0m \u001b[0;32mTrue\u001b[0m\u001b[0;34m:\u001b[0m\u001b[0;34m\u001b[0m\u001b[0;34m\u001b[0m\u001b[0m\n\u001b[0;32m---> 16\u001b[0;31m     \u001b[0mpergunta\u001b[0m \u001b[0;34m=\u001b[0m \u001b[0minput\u001b[0m\u001b[0;34m(\u001b[0m\u001b[0;34m\"Usuário: \"\u001b[0m\u001b[0;34m)\u001b[0m\u001b[0;34m\u001b[0m\u001b[0;34m\u001b[0m\u001b[0m\n\u001b[0m\u001b[1;32m     17\u001b[0m     \u001b[0mresposta\u001b[0m \u001b[0;34m=\u001b[0m \u001b[0mbot\u001b[0m\u001b[0;34m.\u001b[0m\u001b[0mget_response\u001b[0m\u001b[0;34m(\u001b[0m\u001b[0mpergunta\u001b[0m\u001b[0;34m)\u001b[0m\u001b[0;34m\u001b[0m\u001b[0;34m\u001b[0m\u001b[0m\n\u001b[1;32m     18\u001b[0m     \u001b[0;32mif\u001b[0m \u001b[0mfloat\u001b[0m\u001b[0;34m(\u001b[0m\u001b[0mresposta\u001b[0m\u001b[0;34m.\u001b[0m\u001b[0mconfidence\u001b[0m\u001b[0;34m)\u001b[0m \u001b[0;34m>\u001b[0m \u001b[0;36m0.2\u001b[0m\u001b[0;34m:\u001b[0m\u001b[0;34m\u001b[0m\u001b[0;34m\u001b[0m\u001b[0m\n",
      "\u001b[0;32m~/anaconda3/lib/python3.9/site-packages/ipykernel/kernelbase.py\u001b[0m in \u001b[0;36mraw_input\u001b[0;34m(self, prompt)\u001b[0m\n\u001b[1;32m   1004\u001b[0m                 \u001b[0;34m\"raw_input was called, but this frontend does not support input requests.\"\u001b[0m\u001b[0;34m\u001b[0m\u001b[0;34m\u001b[0m\u001b[0m\n\u001b[1;32m   1005\u001b[0m             )\n\u001b[0;32m-> 1006\u001b[0;31m         return self._input_request(\n\u001b[0m\u001b[1;32m   1007\u001b[0m             \u001b[0mstr\u001b[0m\u001b[0;34m(\u001b[0m\u001b[0mprompt\u001b[0m\u001b[0;34m)\u001b[0m\u001b[0;34m,\u001b[0m\u001b[0;34m\u001b[0m\u001b[0;34m\u001b[0m\u001b[0m\n\u001b[1;32m   1008\u001b[0m             \u001b[0mself\u001b[0m\u001b[0;34m.\u001b[0m\u001b[0m_parent_ident\u001b[0m\u001b[0;34m[\u001b[0m\u001b[0;34m\"shell\"\u001b[0m\u001b[0;34m]\u001b[0m\u001b[0;34m,\u001b[0m\u001b[0;34m\u001b[0m\u001b[0;34m\u001b[0m\u001b[0m\n",
      "\u001b[0;32m~/anaconda3/lib/python3.9/site-packages/ipykernel/kernelbase.py\u001b[0m in \u001b[0;36m_input_request\u001b[0;34m(self, prompt, ident, parent, password)\u001b[0m\n\u001b[1;32m   1049\u001b[0m             \u001b[0;32mexcept\u001b[0m \u001b[0mKeyboardInterrupt\u001b[0m\u001b[0;34m:\u001b[0m\u001b[0;34m\u001b[0m\u001b[0;34m\u001b[0m\u001b[0m\n\u001b[1;32m   1050\u001b[0m                 \u001b[0;31m# re-raise KeyboardInterrupt, to truncate traceback\u001b[0m\u001b[0;34m\u001b[0m\u001b[0;34m\u001b[0m\u001b[0m\n\u001b[0;32m-> 1051\u001b[0;31m                 \u001b[0;32mraise\u001b[0m \u001b[0mKeyboardInterrupt\u001b[0m\u001b[0;34m(\u001b[0m\u001b[0;34m\"Interrupted by user\"\u001b[0m\u001b[0;34m)\u001b[0m \u001b[0;32mfrom\u001b[0m \u001b[0;32mNone\u001b[0m\u001b[0;34m\u001b[0m\u001b[0;34m\u001b[0m\u001b[0m\n\u001b[0m\u001b[1;32m   1052\u001b[0m             \u001b[0;32mexcept\u001b[0m \u001b[0mException\u001b[0m\u001b[0;34m:\u001b[0m\u001b[0;34m\u001b[0m\u001b[0;34m\u001b[0m\u001b[0m\n\u001b[1;32m   1053\u001b[0m                 \u001b[0mself\u001b[0m\u001b[0;34m.\u001b[0m\u001b[0mlog\u001b[0m\u001b[0;34m.\u001b[0m\u001b[0mwarning\u001b[0m\u001b[0;34m(\u001b[0m\u001b[0;34m\"Invalid Message:\"\u001b[0m\u001b[0;34m,\u001b[0m \u001b[0mexc_info\u001b[0m\u001b[0;34m=\u001b[0m\u001b[0;32mTrue\u001b[0m\u001b[0;34m)\u001b[0m\u001b[0;34m\u001b[0m\u001b[0;34m\u001b[0m\u001b[0m\n",
      "\u001b[0;31mKeyboardInterrupt\u001b[0m: Interrupted by user"
     ]
    }
   ],
   "source": [
    "bot = ChatBot('My bot')\n",
    "\n",
    "conversa = ['Oi', 'Olá', \n",
    "            'Tudo bem?', 'Tudo ótimo', \n",
    "            'Você gosta de programar?', 'Sim, eu programo em Python',\n",
    "            'Que horas são?', 'São c{horas}',\n",
    "            'Você gosta de ler?', \"Sim, meu livro favorito é Harry Potter\",\n",
    "            'Eu tenho uma atividade nova para fazer', 'Qual atividade?c{novaativ}',\n",
    "            'Eu tenho alguma tarefa?', 'c{falartarefas}',\n",
    "            'Eu acabei uma tarefa!', 'c{acabartarefa}']\n",
    "\n",
    "trainer = ListTrainer(bot)\n",
    "trainer.train(conversa)\n",
    "\n",
    "while True:\n",
    "    pergunta = input(\"Usuário: \")    \n",
    "    resposta = bot.get_response(pergunta)\n",
    "    if float(resposta.confidence) > 0.2:\n",
    "        if get_comands(resposta) != None:\n",
    "            print('My Bot: ', get_comands(resposta))\n",
    "    else:\n",
    "        print('My Bot: Ainda não sei responder esta pergunta')"
   ]
  },
  {
   "cell_type": "code",
   "execution_count": 12,
   "id": "8b3f323a",
   "metadata": {},
   "outputs": [],
   "source": []
  }
 ],
 "metadata": {
  "kernelspec": {
   "display_name": "Python 3 (ipykernel)",
   "language": "python",
   "name": "python3"
  },
  "language_info": {
   "codemirror_mode": {
    "name": "ipython",
    "version": 3
   },
   "file_extension": ".py",
   "mimetype": "text/x-python",
   "name": "python",
   "nbconvert_exporter": "python",
   "pygments_lexer": "ipython3",
   "version": "3.9.7"
  }
 },
 "nbformat": 4,
 "nbformat_minor": 5
}
