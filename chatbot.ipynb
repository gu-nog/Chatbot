{
 "cells": [
  {
   "cell_type": "code",
   "execution_count": null,
   "id": "55f71834",
   "metadata": {},
   "outputs": [],
   "source": [
    "from chatterbot.trainers import ListTrainer\n",
    "from chatterbot import ChatBot"
   ]
  },
  {
   "cell_type": "code",
   "execution_count": null,
   "id": "53be0e4b",
   "metadata": {},
   "outputs": [],
   "source": [
    "from datetime import datetime\n",
    "import requests\n",
    "\n",
    "atividades = []\n",
    "dolar = {}\n",
    "\n",
    "def get_comands(pre_resposta):\n",
    "    data = datetime.now()\n",
    "    \n",
    "    _resposta = str(pre_resposta)\n",
    "    \n",
    "    _resposta = _resposta.replace('c{horas}', str(data.hour))\n",
    "    \n",
    "    if 'c{novaativ}' in _resposta:\n",
    "        print('My Bot: Qual atividade?')\n",
    "        nova_atividade = input(\"Usuário: \")\n",
    "        atividades.append(nova_atividade)\n",
    "        print('My Bot: ok, vou adicionar essa tarefa na sua lista')\n",
    "        _resposta = None\n",
    "    \n",
    "    elif 'c{falartarefas}' in _resposta:\n",
    "        if len(atividades) == 0:\n",
    "            print('My Bot: Não, você está livre para conversar comigo!!')\n",
    "        else:\n",
    "            print('My Bot: Infelizmente sim :(, você ainda tem que:')\n",
    "            for tarefa in atividades:\n",
    "                print(f'- {tarefa}')\n",
    "        _resposta = None\n",
    "    \n",
    "    elif 'c{acabartarefa}' in _resposta:\n",
    "        print('My Bot: Ebaa, qual tarefa?')\n",
    "        tarefa_finalizada = input('Usuário: ')\n",
    "        if tarefa_finalizada in atividades:\n",
    "            atividades.remove(tarefa_finalizada)\n",
    "            print('My Bot: Boaa, já risquei ela da lista')\n",
    "        else:\n",
    "            print('My Bot: Hum, não achei essa tarefa na sua lista')\n",
    "        _resposta = None\n",
    "    \n",
    "    elif 'c{dolar}' in _resposta:\n",
    "        if dolar != {} and data.hour - dolar['salvamento'] < 1:\n",
    "            dolar_temp = dolar['valor']\n",
    "        else:    \n",
    "            dolar_temp = requests.get('https://economia.awesomeapi.com.br/last/USD-BRL').json()[\"USDBRL\"]['bid']\n",
    "            dolar['valor'] = dolar_temp\n",
    "            dolar['salvamento'] = data.hour\n",
    "        _resposta = _resposta.replace('c{dolar}', dolar_temp)\n",
    "    \n",
    "    return _resposta"
   ]
  },
  {
   "cell_type": "code",
   "execution_count": null,
   "id": "ecba8151",
   "metadata": {
    "scrolled": true
   },
   "outputs": [],
   "source": [
    "bot = ChatBot('My bot')\n",
    "\n",
    "conversa = ['Oi', 'Olá', \n",
    "            'Tudo bem?', 'Tudo ótimo', \n",
    "            'Você gosta de programar?', 'Sim, eu programo em Python',\n",
    "            'Que horas são?', 'São c{horas}',\n",
    "            'Você gosta de ler?', \"Sim, meu livro favorito é Harry Potter\",\n",
    "            'Eu tenho uma atividade nova para fazer', 'Qual atividade?c{novaativ}',\n",
    "            'Eu tenho alguma tarefa?', 'c{falartarefas}',\n",
    "            'Eu acabei uma tarefa!', 'c{acabartarefa}',\n",
    "            'Quanto está o dólar?', 'O dólar está c{dolar} reais']\n",
    "\n",
    "trainer = ListTrainer(bot)\n",
    "trainer.train(conversa)\n",
    "\n",
    "while True:\n",
    "    pergunta = input(\"Usuário: \") \n",
    "    if pergunta == 'parar':\n",
    "        break\n",
    "    resposta = bot.get_response(pergunta)\n",
    "    if float(resposta.confidence) > 0.2:\n",
    "        if get_comands(resposta) != None:\n",
    "            print('My Bot: ', get_comands(resposta))\n",
    "    else:\n",
    "        print('My Bot: Ainda não sei responder esta pergunta')"
   ]
  }
 ],
 "metadata": {
  "kernelspec": {
   "display_name": "Python 3 (ipykernel)",
   "language": "python",
   "name": "python3"
  },
  "language_info": {
   "codemirror_mode": {
    "name": "ipython",
    "version": 3
   },
   "file_extension": ".py",
   "mimetype": "text/x-python",
   "name": "python",
   "nbconvert_exporter": "python",
   "pygments_lexer": "ipython3",
   "version": "3.9.7"
  }
 },
 "nbformat": 4,
 "nbformat_minor": 5
}
